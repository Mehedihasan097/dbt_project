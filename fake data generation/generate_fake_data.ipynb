{
  "nbformat": 4,
  "nbformat_minor": 0,
  "metadata": {
    "colab": {
      "provenance": []
    },
    "kernelspec": {
      "name": "python3",
      "display_name": "Python 3"
    },
    "language_info": {
      "name": "python"
    }
  },
  "cells": [
    {
      "cell_type": "code",
      "execution_count": 1,
      "metadata": {
        "colab": {
          "base_uri": "https://localhost:8080/"
        },
        "collapsed": true,
        "id": "315qrWU2g8pH",
        "outputId": "bf868dbf-b15b-4017-afd0-693975c50e6f"
      },
      "outputs": [
        {
          "output_type": "stream",
          "name": "stdout",
          "text": [
            "Collecting faker\n",
            "  Downloading faker-37.0.0-py3-none-any.whl.metadata (15 kB)\n",
            "Requirement already satisfied: tzdata in /usr/local/lib/python3.11/dist-packages (from faker) (2025.1)\n",
            "Downloading faker-37.0.0-py3-none-any.whl (1.9 MB)\n",
            "\u001b[2K   \u001b[90m━━━━━━━━━━━━━━━━━━━━━━━━━━━━━━━━━━━━━━━━\u001b[0m \u001b[32m1.9/1.9 MB\u001b[0m \u001b[31m18.5 MB/s\u001b[0m eta \u001b[36m0:00:00\u001b[0m\n",
            "\u001b[?25hInstalling collected packages: faker\n",
            "Successfully installed faker-37.0.0\n"
          ]
        }
      ],
      "source": [
        "%pip install faker"
      ]
    },
    {
      "cell_type": "code",
      "source": [
        "import random\n",
        "import pandas as pd\n",
        "from faker import Faker\n",
        "from sqlalchemy import create_engine\n",
        "from datetime import datetime"
      ],
      "metadata": {
        "id": "OHuOdGsbg-AF"
      },
      "execution_count": 2,
      "outputs": []
    },
    {
      "cell_type": "code",
      "source": [
        "# Initialize Faker\n",
        "fake = Faker()"
      ],
      "metadata": {
        "id": "sRmk6Q-yhAD2"
      },
      "execution_count": 3,
      "outputs": []
    },
    {
      "cell_type": "code",
      "source": [
        "# Generate Product Catalog Data\n",
        "def generate_product_catalog(n=50):\n",
        "    categories = ['Electronics', 'Clothing', 'Home & Kitchen', 'Books', 'Beauty', 'Toys', 'Sports']\n",
        "    data = [{\n",
        "        'product_id': i + 1,\n",
        "        'product_name': fake.word().capitalize() + ' ' + random.choice(categories),\n",
        "        'category': random.choice(categories)\n",
        "    } for i in range(n)]\n",
        "    return pd.DataFrame(data)"
      ],
      "metadata": {
        "id": "fz8S2EHzhCvR"
      },
      "execution_count": 4,
      "outputs": []
    },
    {
      "cell_type": "code",
      "source": [
        "# Generate Marketing Events Data with updated_at\n",
        "def generate_marketing_events(n=100):\n",
        "    event_types = ['click', 'view', 'impression', 'conversion']\n",
        "    channels = ['email', 'social', 'search', 'display']\n",
        "    campaigns = ['Summer Sale', 'Black Friday', 'New Year Promo', 'Flash Deal']\n",
        "\n",
        "    data = [{\n",
        "        'event_id': i + 1,\n",
        "        'user_id': random.randint(1, 200),\n",
        "        'event_type': random.choice(event_types),\n",
        "        'event_timestamp': fake.date_time_this_year(),\n",
        "        'channel': random.choice(channels),\n",
        "        'campaign': random.choice(campaigns),\n",
        "        'cost': round(random.uniform(0.5, 10.0), 2),\n",
        "        'updated_at': datetime.now()\n",
        "    } for i in range(n)]\n",
        "\n",
        "    return pd.DataFrame(data)"
      ],
      "metadata": {
        "id": "NOYvXXrrhHwM"
      },
      "execution_count": 5,
      "outputs": []
    },
    {
      "cell_type": "code",
      "source": [
        "# Generate Sales Transactions Data with updated_at\n",
        "def generate_sales_transactions(n=5000, product_catalog=None):\n",
        "    product_ids = product_catalog['product_id'].tolist()\n",
        "\n",
        "    data = [{\n",
        "        'transaction_id': i + 1,\n",
        "        'product_id': random.choice(product_ids),\n",
        "        'user_id': random.randint(1, 200),\n",
        "        'transaction_timestamp': fake.date_time_this_year(),\n",
        "        'revenue': round(random.uniform(5.0, 500.0), 2),\n",
        "        'cost': round(random.uniform(2.5, 250.0), 2),\n",
        "        'updated_at': datetime.now()\n",
        "    } for i in range(n)]\n",
        "\n",
        "    return pd.DataFrame(data)"
      ],
      "metadata": {
        "id": "v_wMuNDMhKSd"
      },
      "execution_count": 6,
      "outputs": []
    },
    {
      "cell_type": "code",
      "source": [
        "# Generate Data\n",
        "product_catalog_df = generate_product_catalog(50)\n",
        "marketing_events_df = generate_marketing_events(100)\n",
        "sales_transactions_df = generate_sales_transactions(5000, product_catalog_df)"
      ],
      "metadata": {
        "id": "0qkGzYpJhMn1"
      },
      "execution_count": 8,
      "outputs": []
    },
    {
      "cell_type": "code",
      "source": [
        "# PostgreSQL Connection Details (Update as needed)\n",
        "DB_HOST = \"localhost\"\n",
        "DB_PORT = \"5432\"\n",
        "DB_NAME = \"dbt_demo\"\n",
        "DB_USER = \"postgres\"\n",
        "DB_PASSWORD = \"######\""
      ],
      "metadata": {
        "id": "pbL1YkbWhPHc"
      },
      "execution_count": null,
      "outputs": []
    },
    {
      "cell_type": "code",
      "source": [
        "# Create database engine\n",
        "engine = create_engine(f\"postgresql://{DB_USER}:{DB_PASSWORD}@{DB_HOST}:{DB_PORT}/{DB_NAME}\")"
      ],
      "metadata": {
        "id": "PWBvlVDPiFpj"
      },
      "execution_count": null,
      "outputs": []
    },
    {
      "cell_type": "code",
      "source": [
        "# Load Data into Staging Schema\n",
        "marketing_events_df.to_sql('marketing_events', engine, schema='raw', if_exists='append', index=False)"
      ],
      "metadata": {
        "id": "80ThXK2tiJEK"
      },
      "execution_count": null,
      "outputs": []
    },
    {
      "cell_type": "code",
      "source": [
        "sales_transactions_df.to_sql('sales_transactions', engine, schema='raw', if_exists='append', index=False)"
      ],
      "metadata": {
        "id": "Fp9xXEBjiLTK"
      },
      "execution_count": null,
      "outputs": []
    },
    {
      "cell_type": "code",
      "source": [
        "product_catalog_df.to_sql('product_catalog', engine, schema='raw', if_exists='append', index=False)"
      ],
      "metadata": {
        "id": "9Mex-5EIiNIB"
      },
      "execution_count": null,
      "outputs": []
    }
  ]
}